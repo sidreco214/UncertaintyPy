{
 "cells": [
  {
   "cell_type": "code",
   "execution_count": 1,
   "metadata": {},
   "outputs": [],
   "source": [
    "import numpy as np\n",
    "import UncertaintyPy as upy"
   ]
  },
  {
   "cell_type": "code",
   "execution_count": 2,
   "metadata": {},
   "outputs": [],
   "source": [
    "V_s = np.array([str(x) for x in [1.0, 2.0, 5.0, 10.0]])\n",
    "RANGE = np.array([upy.ufloat(x, 0, \"V\") for x in [2,20,20,20]])\n",
    "V_m = np.array([upy.ufloat(x, RANGE[i].value*0.01 + 100.E-6, 'V') for i, x in enumerate([1.081, 2.04, 5.11, 10.07])])\n",
    "V_div = np.array([upy.ufloat(x, 0, \"V\") for x in[0.5, 1.0, 2.0, 5.0]])\n",
    "count = np.array([upy.ufloat(x, 0.1) for x in[2.21, 2.18, 2.65, 2.03]])\n",
    "V_osc = upy.set_unit(V_div*count, \"V\")"
   ]
  },
  {
   "cell_type": "code",
   "execution_count": 3,
   "metadata": {},
   "outputs": [
    {
     "data": {
      "text/html": [
       "<div>\n",
       "<style scoped>\n",
       "    .dataframe tbody tr th:only-of-type {\n",
       "        vertical-align: middle;\n",
       "    }\n",
       "\n",
       "    .dataframe tbody tr th {\n",
       "        vertical-align: top;\n",
       "    }\n",
       "\n",
       "    .dataframe thead th {\n",
       "        text-align: right;\n",
       "    }\n",
       "</style>\n",
       "<table border=\"1\" class=\"dataframe\">\n",
       "  <thead>\n",
       "    <tr style=\"text-align: right;\">\n",
       "      <th></th>\n",
       "      <th>0</th>\n",
       "      <th>1</th>\n",
       "      <th>2</th>\n",
       "      <th>3</th>\n",
       "      <th>4</th>\n",
       "      <th>5</th>\n",
       "    </tr>\n",
       "  </thead>\n",
       "  <tbody>\n",
       "    <tr>\n",
       "      <th>0</th>\n",
       "      <td>1.0</td>\n",
       "      <td>2 V</td>\n",
       "      <td>(1.08 ± 0.02) V</td>\n",
       "      <td>0.5 V</td>\n",
       "      <td>2.2 ± 0.1</td>\n",
       "      <td>(1.1 ± 0.1) V</td>\n",
       "    </tr>\n",
       "    <tr>\n",
       "      <th>1</th>\n",
       "      <td>2.0</td>\n",
       "      <td>20 V</td>\n",
       "      <td>(2.0 ± 0.2) V</td>\n",
       "      <td>1.0 V</td>\n",
       "      <td>2.2 ± 0.1</td>\n",
       "      <td>(2.2 ± 0.1) V</td>\n",
       "    </tr>\n",
       "    <tr>\n",
       "      <th>2</th>\n",
       "      <td>5.0</td>\n",
       "      <td>20 V</td>\n",
       "      <td>(5.1 ± 0.2) V</td>\n",
       "      <td>2.0 V</td>\n",
       "      <td>2.7 ± 0.1</td>\n",
       "      <td>(5.3 ± 0.2) V</td>\n",
       "    </tr>\n",
       "    <tr>\n",
       "      <th>3</th>\n",
       "      <td>10.0</td>\n",
       "      <td>20 V</td>\n",
       "      <td>(10.1 ± 0.2) V</td>\n",
       "      <td>5.0 V</td>\n",
       "      <td>2.0 ± 0.1</td>\n",
       "      <td>(10 ± 1) V</td>\n",
       "    </tr>\n",
       "  </tbody>\n",
       "</table>\n",
       "</div>"
      ],
      "text/plain": [
       "      0     1                2      3          4              5\n",
       "0   1.0   2 V  (1.08 ± 0.02) V  0.5 V  2.2 ± 0.1  (1.1 ± 0.1) V\n",
       "1   2.0  20 V    (2.0 ± 0.2) V  1.0 V  2.2 ± 0.1  (2.2 ± 0.1) V\n",
       "2   5.0  20 V    (5.1 ± 0.2) V  2.0 V  2.7 ± 0.1  (5.3 ± 0.2) V\n",
       "3  10.0  20 V   (10.1 ± 0.2) V  5.0 V  2.0 ± 0.1     (10 ± 1) V"
      ]
     },
     "execution_count": 3,
     "metadata": {},
     "output_type": "execute_result"
    }
   ],
   "source": [
    "table = upy.utable(V_s, RANGE, V_m, V_div, count, V_osc)\n",
    "table.to_pandas()"
   ]
  },
  {
   "cell_type": "code",
   "execution_count": 4,
   "metadata": {},
   "outputs": [
    {
     "data": {
      "text/plain": [
       "'1.0 & 2.0 & 5.0 & 10.0 \\\\cr\\n2 V & 20 V & 20 V & 20 V \\\\cr\\n(1.08 ± 0.02) V & (2.0 ± 0.2) V & (5.1 ± 0.2) V & (10.1 ± 0.2) V \\\\cr\\n0.5 V & 1.0 V & 2.0 V & 5.0 V \\\\cr\\n2.2 ± 0.1 & 2.2 ± 0.1 & 2.7 ± 0.1 & 2.0 ± 0.1 \\\\cr\\n(1.1 ± 0.1) V & (2.2 ± 0.1) V & (5.3 ± 0.2) V & (10 ± 1) V \\\\cr\\n'"
      ]
     },
     "execution_count": 4,
     "metadata": {},
     "output_type": "execute_result"
    }
   ],
   "source": [
    "table.to_latex()"
   ]
  },
  {
   "cell_type": "code",
   "execution_count": 6,
   "metadata": {},
   "outputs": [
    {
     "name": "stdout",
     "output_type": "stream",
     "text": [
      "1.0 & 2.0 & 5.0 & 10.0 \\cr\n",
      "2 V & 20 V & 20 V & 20 V \\cr\n",
      "(1.08 ± 0.02) V & (2.0 ± 0.2) V & (5.1 ± 0.2) V & (10.1 ± 0.2) V \\cr\n",
      "0.5 V & 1.0 V & 2.0 V & 5.0 V \\cr\n",
      "2.2 ± 0.1 & 2.2 ± 0.1 & 2.7 ± 0.1 & 2.0 ± 0.1 \\cr\n",
      "(1.1 ± 0.1) V & (2.2 ± 0.1) V & (5.3 ± 0.2) V & (10 ± 1) V \\cr\n",
      "\n"
     ]
    }
   ],
   "source": [
    "print(table.to_latex())"
   ]
  },
  {
   "cell_type": "code",
   "execution_count": 7,
   "metadata": {},
   "outputs": [
    {
     "name": "stdout",
     "output_type": "stream",
     "text": [
      "\\begin{tabular}{lllllll}\n",
      "\\toprule\n",
      " & 0 & 1 & 2 & 3 & 4 & 5 \\\\\n",
      "\\midrule\n",
      "0 & 1.0 & 2 V & (1.08 ± 0.02) V & 0.5 V & 2.2 ± 0.1 & (1.1 ± 0.1) V \\\\\n",
      "1 & 2.0 & 20 V & (2.0 ± 0.2) V & 1.0 V & 2.2 ± 0.1 & (2.2 ± 0.1) V \\\\\n",
      "2 & 5.0 & 20 V & (5.1 ± 0.2) V & 2.0 V & 2.7 ± 0.1 & (5.3 ± 0.2) V \\\\\n",
      "3 & 10.0 & 20 V & (10.1 ± 0.2) V & 5.0 V & 2.0 ± 0.1 & (10 ± 1) V \\\\\n",
      "\\bottomrule\n",
      "\\end{tabular}\n",
      "\n"
     ]
    }
   ],
   "source": [
    "print(table.to_latex(Data_only=False))"
   ]
  }
 ],
 "metadata": {
  "kernelspec": {
   "display_name": "Python 3",
   "language": "python",
   "name": "python3"
  },
  "language_info": {
   "codemirror_mode": {
    "name": "ipython",
    "version": 3
   },
   "file_extension": ".py",
   "mimetype": "text/x-python",
   "name": "python",
   "nbconvert_exporter": "python",
   "pygments_lexer": "ipython3",
   "version": "3.11.4"
  },
  "orig_nbformat": 4
 },
 "nbformat": 4,
 "nbformat_minor": 2
}
