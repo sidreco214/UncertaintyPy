{
 "cells": [
  {
   "cell_type": "code",
   "execution_count": 1,
   "metadata": {},
   "outputs": [],
   "source": [
    "import numpy as np\n",
    "import UncertaintyPy as upy\n",
    "from IPython.core.interactiveshell import InteractiveShell\n",
    "InteractiveShell.ast_node_interactivity = \"all\""
   ]
  },
  {
   "cell_type": "code",
   "execution_count": 2,
   "metadata": {},
   "outputs": [],
   "source": [
    "R1 = upy.ufloat(1.573, (2000*0.01 + 0.1*4)/1000, \"kΩ\")\n",
    "R2 = upy.ufloat(0.993, (2000*0.01 + 0.1*4)/1000, \"kΩ\")\n",
    "vRANGE = [2, 20, 20, 2, 20, 20]\n",
    "voltage = np.array([upy.ufloat(x, (0.015*vRANGE[i]+0.1E-6), \"V\") for i, x in enumerate([1.077, 1.89, 3.04, 1.090, 2.06, 3.06])])\n",
    "RANGE = np.array([upy.ufloat(i, 0, \"mA\") for i in [2,2,2,2,20,20]])\n",
    "current = np.array([upy.ufloat(x, (0.015*RANGE[i].value/1000+0.1E-6)*1000, \"mA\") for i, x in enumerate([0.652, 1.231, 1.900, 0.959, 2.06, 3.06])])"
   ]
  },
  {
   "cell_type": "code",
   "execution_count": 3,
   "metadata": {},
   "outputs": [
    {
     "data": {
      "text/plain": [
       "(1.57 ± 0.02) kΩ"
      ]
     },
     "execution_count": 3,
     "metadata": {},
     "output_type": "execute_result"
    },
    {
     "data": {
      "text/plain": [
       "(0.99 ± 0.02) kΩ"
      ]
     },
     "execution_count": 3,
     "metadata": {},
     "output_type": "execute_result"
    },
    {
     "data": {
      "text/plain": [
       "[2, 20, 20, 2, 20, 20]"
      ]
     },
     "execution_count": 3,
     "metadata": {},
     "output_type": "execute_result"
    },
    {
     "data": {
      "text/plain": [
       "array([(1.08 ± 0.03) V, (1.9 ± 0.3) V, (3.0 ± 0.3) V, (1.09 ± 0.03) V,\n",
       "       (2.1 ± 0.3) V, (3.1 ± 0.3) V], dtype=object)"
      ]
     },
     "execution_count": 3,
     "metadata": {},
     "output_type": "execute_result"
    },
    {
     "data": {
      "text/plain": [
       "array([2 mA, 2 mA, 2 mA, 2 mA, 20 mA, 20 mA], dtype=object)"
      ]
     },
     "execution_count": 3,
     "metadata": {},
     "output_type": "execute_result"
    },
    {
     "data": {
      "text/plain": [
       "array([(0.65 ± 0.03) mA, (1.23 ± 0.03) mA, (1.90 ± 0.03) mA,\n",
       "       (0.96 ± 0.03) mA, (2.1 ± 0.3) mA, (3.1 ± 0.3) mA], dtype=object)"
      ]
     },
     "execution_count": 3,
     "metadata": {},
     "output_type": "execute_result"
    }
   ],
   "source": [
    "R1\n",
    "R2\n",
    "vRANGE\n",
    "voltage\n",
    "RANGE\n",
    "current"
   ]
  },
  {
   "cell_type": "code",
   "execution_count": 12,
   "metadata": {},
   "outputs": [],
   "source": [
    "LinReg = upy.uMSL(current[:3], voltage[:3])\n",
    "a, b = LinReg.fit()"
   ]
  },
  {
   "cell_type": "code",
   "execution_count": 13,
   "metadata": {},
   "outputs": [
    {
     "data": {
      "text/plain": [
       "1.6 ± 0.1"
      ]
     },
     "execution_count": 13,
     "metadata": {},
     "output_type": "execute_result"
    },
    {
     "data": {
      "text/plain": [
       "1.57667458870763"
      ]
     },
     "execution_count": 13,
     "metadata": {},
     "output_type": "execute_result"
    },
    {
     "data": {
      "text/plain": [
       "0.09025691176087569"
      ]
     },
     "execution_count": 13,
     "metadata": {},
     "output_type": "execute_result"
    }
   ],
   "source": [
    "a\n",
    "a.value\n",
    "a.uncertainty"
   ]
  },
  {
   "cell_type": "code",
   "execution_count": 14,
   "metadata": {},
   "outputs": [
    {
     "data": {
      "text/plain": [
       "0.0 ± 0.1"
      ]
     },
     "execution_count": 14,
     "metadata": {},
     "output_type": "execute_result"
    },
    {
     "data": {
      "text/plain": [
       "0.01414667697301164"
      ]
     },
     "execution_count": 14,
     "metadata": {},
     "output_type": "execute_result"
    },
    {
     "data": {
      "text/plain": [
       "0.12276781500539184"
      ]
     },
     "execution_count": 14,
     "metadata": {},
     "output_type": "execute_result"
    }
   ],
   "source": [
    "b\n",
    "b.value\n",
    "b.uncertainty"
   ]
  },
  {
   "cell_type": "code",
   "execution_count": 8,
   "metadata": {},
   "outputs": [],
   "source": [
    "import numpy as np\n",
    "import pandas as pd\n",
    "\n",
    "class LinearReg:\n",
    "    def __init__(self,x,y):\n",
    "        import numpy as np\n",
    "        self.a = (np.mean(x*y)-np.mean(x)*np.mean(y))/(np.mean(x**2)-(np.mean(x))**2)\n",
    "        self.b = np.mean(y)-self.a*np.mean(x)\n",
    "        \n",
    "        self.n = pd.DataFrame(x).count()\n",
    "        self.s = np.sqrt(np.sum((y-(self.a*x+self.b))**2)/(self.n-2))\n",
    "        self.ua = float(self.s*np.sqrt(self.n/(self.n*np.sum(x**2)-(np.sum(x))**2)))\n",
    "        self.ub = float(self.s*np.sqrt(np.sum(x**2)/(self.n*np.sum(x**2)-(np.sum(x))**2)))\n",
    "       \n",
    "        self.Mse = np.mean((y-(self.a*x+self.b))**2)\n",
    "        self.Rmse = np.sqrt(self.Mse)\n",
    "    \n",
    "    def fit(self):\n",
    "        return self.a,self.b\n",
    "    \n",
    "    def std(self):\n",
    "        return self.s\n",
    "    \n",
    "    def uncertainties(self):\n",
    "        return self.ua,self.ub\n",
    "    \n",
    "    def mse(self):\n",
    "        return self.Mse\n",
    "    \n",
    "    def rmse(self):\n",
    "        return self.Rmse"
   ]
  },
  {
   "cell_type": "code",
   "execution_count": 10,
   "metadata": {},
   "outputs": [
    {
     "name": "stderr",
     "output_type": "stream",
     "text": [
      "C:\\Users\\HJ\\AppData\\Local\\Temp\\ipykernel_6788\\2037141818.py:12: FutureWarning: Calling float on a single element Series is deprecated and will raise a TypeError in the future. Use float(ser.iloc[0]) instead\n",
      "  self.ua = float(self.s*np.sqrt(self.n/(self.n*np.sum(x**2)-(np.sum(x))**2)))\n",
      "C:\\Users\\HJ\\AppData\\Local\\Temp\\ipykernel_6788\\2037141818.py:13: FutureWarning: Calling float on a single element Series is deprecated and will raise a TypeError in the future. Use float(ser.iloc[0]) instead\n",
      "  self.ub = float(self.s*np.sqrt(np.sum(x**2)/(self.n*np.sum(x**2)-(np.sum(x))**2)))\n"
     ]
    },
    {
     "data": {
      "text/plain": [
       "(1.57667458870763, 0.01414667697301164)"
      ]
     },
     "execution_count": 10,
     "metadata": {},
     "output_type": "execute_result"
    }
   ],
   "source": [
    "temp = LinearReg(np.array([iter.value for iter in current[:3]]), np.array([iter.value for iter in voltage[:3]]))\n",
    "temp.fit()"
   ]
  }
 ],
 "metadata": {
  "kernelspec": {
   "display_name": "Python 3",
   "language": "python",
   "name": "python3"
  },
  "language_info": {
   "codemirror_mode": {
    "name": "ipython",
    "version": 3
   },
   "file_extension": ".py",
   "mimetype": "text/x-python",
   "name": "python",
   "nbconvert_exporter": "python",
   "pygments_lexer": "ipython3",
   "version": "3.11.4"
  },
  "orig_nbformat": 4
 },
 "nbformat": 4,
 "nbformat_minor": 2
}
