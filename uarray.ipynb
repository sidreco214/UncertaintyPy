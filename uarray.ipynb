{
 "cells": [
  {
   "cell_type": "code",
   "execution_count": 1,
   "metadata": {},
   "outputs": [],
   "source": [
    "import UncertaintyPy as upy\n",
    "from IPython.core.interactiveshell import InteractiveShell\n",
    "InteractiveShell.ast_node_interactivity = \"all\""
   ]
  },
  {
   "cell_type": "code",
   "execution_count": 2,
   "metadata": {},
   "outputs": [
    {
     "data": {
      "text/plain": [
       "undarray([10.0 ± 0.2, 20.0 ± 0.2, 40.0 ± 0.2], dtype=object)"
      ]
     },
     "execution_count": 2,
     "metadata": {},
     "output_type": "execute_result"
    },
    {
     "data": {
      "text/plain": [
       "undarray([7.0 ± 0.1, 2.0 ± 0.1, 35.5 ± 0.1], dtype=object)"
      ]
     },
     "execution_count": 2,
     "metadata": {},
     "output_type": "execute_result"
    }
   ],
   "source": [
    "arr1 = upy.uarray([upy.ufloat(x, 0.2) for x in [10, 20, 40]])\n",
    "arr1\n",
    "\n",
    "arr2 = upy.uarray([upy.ufloat(x, 0.1) for x in [7, 2, 35.5]])\n",
    "arr2"
   ]
  },
  {
   "cell_type": "code",
   "execution_count": 3,
   "metadata": {},
   "outputs": [
    {
     "data": {
      "text/plain": [
       "undarray([17.0 ± 0.2, 22.0 ± 0.2, 75.5 ± 0.2], dtype=object)"
      ]
     },
     "execution_count": 3,
     "metadata": {},
     "output_type": "execute_result"
    },
    {
     "data": {
      "text/plain": [
       "array([17. , 22. , 75.5])"
      ]
     },
     "execution_count": 3,
     "metadata": {},
     "output_type": "execute_result"
    },
    {
     "data": {
      "text/plain": [
       "array([0.2236068, 0.2236068, 0.2236068])"
      ]
     },
     "execution_count": 3,
     "metadata": {},
     "output_type": "execute_result"
    }
   ],
   "source": [
    "arr3 = arr1 + arr2\n",
    "arr3\n",
    "arr3.get_value()\n",
    "arr3.get_uncertainty()"
   ]
  },
  {
   "cell_type": "code",
   "execution_count": 4,
   "metadata": {},
   "outputs": [
    {
     "data": {
      "text/plain": [
       "undarray([19.3 ± 0.2, 25.0 ± 0.2, 79.2 ± 0.2], dtype=object)"
      ]
     },
     "execution_count": 4,
     "metadata": {},
     "output_type": "execute_result"
    }
   ],
   "source": [
    "upy.log(arr1) + arr3"
   ]
  },
  {
   "cell_type": "code",
   "execution_count": 5,
   "metadata": {},
   "outputs": [
    {
     "data": {
      "text/plain": [
       "70.0 ± 0.3"
      ]
     },
     "execution_count": 5,
     "metadata": {},
     "output_type": "execute_result"
    },
    {
     "data": {
      "text/plain": [
       "23.3 ± 0.1"
      ]
     },
     "execution_count": 5,
     "metadata": {},
     "output_type": "execute_result"
    },
    {
     "data": {
      "text/plain": [
       "23.3 ± 0.1"
      ]
     },
     "execution_count": 5,
     "metadata": {},
     "output_type": "execute_result"
    },
    {
     "data": {
      "text/plain": [
       "undarray([(10.0 ± 0.2) cm, (20.0 ± 0.2) cm, (40.0 ± 0.2) cm], dtype=object)"
      ]
     },
     "execution_count": 5,
     "metadata": {},
     "output_type": "execute_result"
    }
   ],
   "source": [
    "upy.sum(arr1)\n",
    "upy.sum(arr1)/len(arr1)\n",
    "upy.mean(arr1)\n",
    "arr1.set_unit(\"cm\")"
   ]
  },
  {
   "cell_type": "code",
   "execution_count": 6,
   "metadata": {},
   "outputs": [
    {
     "data": {
      "text/plain": [
       "5.0 ± 0.1"
      ]
     },
     "execution_count": 6,
     "metadata": {},
     "output_type": "execute_result"
    },
    {
     "data": {
      "text/plain": [
       "undarray([10.0 ± 0.5, 20.0 ± 0.5, 40.0 ± 0.5], dtype=object)"
      ]
     },
     "execution_count": 6,
     "metadata": {},
     "output_type": "execute_result"
    }
   ],
   "source": [
    "u1 = upy.ufloat(5, 0.1)\n",
    "arr = upy.uarray([upy.ufloat(x, 0.5) for x in [10, 20, 40]])\n",
    "u1\n",
    "arr"
   ]
  },
  {
   "cell_type": "code",
   "execution_count": 7,
   "metadata": {},
   "outputs": [
    {
     "data": {
      "text/plain": [
       "undarray([11.0 ± 0.5, 21.0 ± 0.5, 41.0 ± 0.5], dtype=object)"
      ]
     },
     "execution_count": 7,
     "metadata": {},
     "output_type": "execute_result"
    }
   ],
   "source": [
    "arr + 1"
   ]
  },
  {
   "cell_type": "code",
   "execution_count": 10,
   "metadata": {},
   "outputs": [
    {
     "data": {
      "text/plain": [
       "undarray([15.0 ± 0.5, 25.0 ± 0.5, 45.0 ± 0.5], dtype=object)"
      ]
     },
     "execution_count": 10,
     "metadata": {},
     "output_type": "execute_result"
    },
    {
     "data": {
      "text/plain": [
       "undarray([15.0 ± 0.5, 25.0 ± 0.5, 45.0 ± 0.5], dtype=object)"
      ]
     },
     "execution_count": 10,
     "metadata": {},
     "output_type": "execute_result"
    },
    {
     "name": "stdout",
     "output_type": "stream",
     "text": [
      "==================================\n"
     ]
    },
    {
     "data": {
      "text/plain": [
       "undarray([-5.0 ± 0.5, -15.0 ± 0.5, -35.0 ± 0.5], dtype=object)"
      ]
     },
     "execution_count": 10,
     "metadata": {},
     "output_type": "execute_result"
    },
    {
     "data": {
      "text/plain": [
       "undarray([5.0 ± 0.5, 15.0 ± 0.5, 35.0 ± 0.5], dtype=object)"
      ]
     },
     "execution_count": 10,
     "metadata": {},
     "output_type": "execute_result"
    },
    {
     "name": "stdout",
     "output_type": "stream",
     "text": [
      "==================================\n"
     ]
    },
    {
     "data": {
      "text/plain": [
       "undarray([50 ± 3, 100 ± 3, 200 ± 5], dtype=object)"
      ]
     },
     "execution_count": 10,
     "metadata": {},
     "output_type": "execute_result"
    },
    {
     "data": {
      "text/plain": [
       "undarray([50 ± 3, 100 ± 3, 200 ± 5], dtype=object)"
      ]
     },
     "execution_count": 10,
     "metadata": {},
     "output_type": "execute_result"
    },
    {
     "name": "stdout",
     "output_type": "stream",
     "text": [
      "==================================\n"
     ]
    },
    {
     "data": {
      "text/plain": [
       "undarray([0.50 ± 0.03, 0.250 ± 0.008, 0.125 ± 0.003], dtype=object)"
      ]
     },
     "execution_count": 10,
     "metadata": {},
     "output_type": "execute_result"
    },
    {
     "data": {
      "text/plain": [
       "undarray([2.0 ± 0.1, 4.0 ± 0.1, 8.0 ± 0.2], dtype=object)"
      ]
     },
     "execution_count": 10,
     "metadata": {},
     "output_type": "execute_result"
    }
   ],
   "source": [
    "u1 + arr\n",
    "arr + u1\n",
    "print(\"==================================\")\n",
    "u1 - arr\n",
    "arr - u1\n",
    "print(\"==================================\")\n",
    "u1*arr\n",
    "arr*u1\n",
    "print(\"==================================\")\n",
    "u1/arr\n",
    "arr/u1"
   ]
  }
 ],
 "metadata": {
  "kernelspec": {
   "display_name": "Python 3",
   "language": "python",
   "name": "python3"
  },
  "language_info": {
   "codemirror_mode": {
    "name": "ipython",
    "version": 3
   },
   "file_extension": ".py",
   "mimetype": "text/x-python",
   "name": "python",
   "nbconvert_exporter": "python",
   "pygments_lexer": "ipython3",
   "version": "3.11.4"
  },
  "orig_nbformat": 4
 },
 "nbformat": 4,
 "nbformat_minor": 2
}
